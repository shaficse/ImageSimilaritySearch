{
 "cells": [
  {
   "cell_type": "code",
   "execution_count": 1,
   "metadata": {},
   "outputs": [
    {
     "name": "stderr",
     "output_type": "stream",
     "text": [
      "Downloading: \"https://download.pytorch.org/models/vit_b_16-c867db91.pth\" to /home/dlb/.cache/torch/hub/checkpoints/vit_b_16-c867db91.pth\n",
      "100.0%\n"
     ]
    },
    {
     "ename": "AttributeError",
     "evalue": "'VisionTransformer' object has no attribute 'get_features'",
     "output_type": "error",
     "traceback": [
      "\u001b[0;31m---------------------------------------------------------------------------\u001b[0m",
      "\u001b[0;31mAttributeError\u001b[0m                            Traceback (most recent call last)",
      "Cell \u001b[0;32mIn[1], line 73\u001b[0m\n\u001b[1;32m     70\u001b[0m     plt\u001b[38;5;241m.\u001b[39mshow()\n\u001b[1;32m     72\u001b[0m \u001b[38;5;66;03m# Main execution flow\u001b[39;00m\n\u001b[0;32m---> 73\u001b[0m model \u001b[38;5;241m=\u001b[39m \u001b[43mVisualTransformerFeatureExtractor\u001b[49m\u001b[43m(\u001b[49m\u001b[43m)\u001b[49m\n\u001b[1;32m     74\u001b[0m model\u001b[38;5;241m.\u001b[39meval()\n\u001b[1;32m     76\u001b[0m embeddings \u001b[38;5;241m=\u001b[39m compute_embeddings(image_dir, model)\n",
      "Cell \u001b[0;32mIn[1], line 39\u001b[0m, in \u001b[0;36mVisualTransformerFeatureExtractor.__init__\u001b[0;34m(self)\u001b[0m\n\u001b[1;32m     37\u001b[0m \u001b[38;5;28msuper\u001b[39m(VisualTransformerFeatureExtractor, \u001b[38;5;28mself\u001b[39m)\u001b[38;5;241m.\u001b[39m\u001b[38;5;21m__init__\u001b[39m()\n\u001b[1;32m     38\u001b[0m base_model \u001b[38;5;241m=\u001b[39m models\u001b[38;5;241m.\u001b[39mvit_b_16(weights\u001b[38;5;241m=\u001b[39mmodels\u001b[38;5;241m.\u001b[39mViT_B_16_Weights\u001b[38;5;241m.\u001b[39mIMAGENET1K_V1)\u001b[38;5;241m.\u001b[39mto(device)\n\u001b[0;32m---> 39\u001b[0m \u001b[38;5;28mself\u001b[39m\u001b[38;5;241m.\u001b[39mfeatures \u001b[38;5;241m=\u001b[39m \u001b[43mbase_model\u001b[49m\u001b[38;5;241;43m.\u001b[39;49m\u001b[43mget_features\u001b[49m\n",
      "File \u001b[0;32m~/anaconda3/envs/imgSim/lib/python3.11/site-packages/torch/nn/modules/module.py:1709\u001b[0m, in \u001b[0;36mModule.__getattr__\u001b[0;34m(self, name)\u001b[0m\n\u001b[1;32m   1707\u001b[0m     \u001b[38;5;28;01mif\u001b[39;00m name \u001b[38;5;129;01min\u001b[39;00m modules:\n\u001b[1;32m   1708\u001b[0m         \u001b[38;5;28;01mreturn\u001b[39;00m modules[name]\n\u001b[0;32m-> 1709\u001b[0m \u001b[38;5;28;01mraise\u001b[39;00m \u001b[38;5;167;01mAttributeError\u001b[39;00m(\u001b[38;5;124mf\u001b[39m\u001b[38;5;124m\"\u001b[39m\u001b[38;5;124m'\u001b[39m\u001b[38;5;132;01m{\u001b[39;00m\u001b[38;5;28mtype\u001b[39m(\u001b[38;5;28mself\u001b[39m)\u001b[38;5;241m.\u001b[39m\u001b[38;5;18m__name__\u001b[39m\u001b[38;5;132;01m}\u001b[39;00m\u001b[38;5;124m'\u001b[39m\u001b[38;5;124m object has no attribute \u001b[39m\u001b[38;5;124m'\u001b[39m\u001b[38;5;132;01m{\u001b[39;00mname\u001b[38;5;132;01m}\u001b[39;00m\u001b[38;5;124m'\u001b[39m\u001b[38;5;124m\"\u001b[39m)\n",
      "\u001b[0;31mAttributeError\u001b[0m: 'VisionTransformer' object has no attribute 'get_features'"
     ]
    }
   ],
   "source": [
    "import os\n",
    "import torch\n",
    "import torch.nn as nn\n",
    "from torchvision import models, transforms\n",
    "from torchvision.io import read_image\n",
    "import numpy as np\n",
    "import h5py\n",
    "from sklearn.metrics.pairwise import cosine_similarity\n",
    "from PIL import Image\n",
    "import matplotlib.pyplot as plt\n",
    "\n",
    "# Configuration\n",
    "image_dir = './final_search_img_dir'\n",
    "new_image_path = './candidate_img_dir/example_image.png'\n",
    "device = torch.device(\"cuda\" if torch.cuda.is_available() else \"cpu\")\n",
    "\n",
    "# Define the image preprocessing pipeline\n",
    "preprocess = transforms.Compose([\n",
    "    transforms.Resize(256),\n",
    "    transforms.CenterCrop(224),\n",
    "    transforms.ConvertImageDtype(torch.float32),\n",
    "    transforms.Normalize(mean=[0.485, 0.456, 0.406], std=[0.229, 0.224, 0.225])\n",
    "])\n",
    "\n",
    "def load_and_preprocess_image(image_path):\n",
    "    \"\"\"Load and preprocess an image from a file.\"\"\"\n",
    "    image = read_image(image_path)\n",
    "    if image.shape[0] == 1:\n",
    "        image = image.repeat(3, 1, 1)\n",
    "    elif image.shape[0] == 4:\n",
    "        image = image[:3, :, :]\n",
    "    return preprocess(image).unsqueeze(0).to(device)\n",
    "\n",
    "class VisualTransformerFeatureExtractor(nn.Module):\n",
    "    \"\"\"Feature extractor using a pre-trained Visual Transformer.\"\"\"\n",
    "    def __init__(self):\n",
    "        super(VisualTransformerFeatureExtractor, self).__init__()\n",
    "        base_model = models.vit_b_16(weights=models.ViT_B_16_Weights.IMAGENET1K_V1).to(device)\n",
    "        self.features = base_model.get_features\n",
    "\n",
    "    def forward(self, x):\n",
    "        with torch.no_grad():\n",
    "            x = self.features(x)\n",
    "            return torch.flatten(x, 1)\n",
    "\n",
    "def compute_embeddings(directory, model):\n",
    "    \"\"\"Compute embeddings for all images in the specified directory.\"\"\"\n",
    "    embeddings = {}\n",
    "    for img_name in os.listdir(directory):\n",
    "        img_path = os.path.join(directory, img_name)\n",
    "        image = load_and_preprocess_image(img_path)\n",
    "        embeddings[img_name] = model(image)\n",
    "    return embeddings\n",
    "\n",
    "def show_similar_images(candidate_path, similarities, image_dir, top_n=5):\n",
    "    \"\"\"Display the candidate image and its top N most similar images.\"\"\"\n",
    "    candidate_image = Image.open(candidate_path)\n",
    "    sorted_similarities = sorted(similarities.items(), key=lambda x: x[1], reverse=True)[:top_n]\n",
    "    fig, axs = plt.subplots(1, top_n + 1, figsize=(15, 10))\n",
    "    axs[0].imshow(candidate_image)\n",
    "    axs[0].set_title(\"Candidate Image\")\n",
    "    axs[0].axis('off')\n",
    "    for i, (img_name, sim_score) in enumerate(sorted_similarities, start=1):\n",
    "        img_path = os.path.join(image_dir, img_name)\n",
    "        image = Image.open(img_path)\n",
    "        axs[i].imshow(image)\n",
    "        axs[i].set_title(f\"Match {i}\\nScore: {sim_score:.2f}\")\n",
    "        axs[i].axis('off')\n",
    "    plt.tight_layout()\n",
    "    plt.show()\n",
    "\n",
    "# Main execution flow\n",
    "model = VisualTransformerFeatureExtractor()\n",
    "model.eval()\n",
    "\n",
    "embeddings = compute_embeddings(image_dir, model)\n",
    "similarities = compare_new_image(new_image_path, embeddings, model)\n",
    "show_similar_images(new_image_path, similarities, image_dir)\n"
   ]
  }
 ],
 "metadata": {
  "kernelspec": {
   "display_name": "imgSim",
   "language": "python",
   "name": "python3"
  },
  "language_info": {
   "codemirror_mode": {
    "name": "ipython",
    "version": 3
   },
   "file_extension": ".py",
   "mimetype": "text/x-python",
   "name": "python",
   "nbconvert_exporter": "python",
   "pygments_lexer": "ipython3",
   "version": "3.11.9"
  }
 },
 "nbformat": 4,
 "nbformat_minor": 2
}
